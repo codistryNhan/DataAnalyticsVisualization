{
 "cells": [
  {
   "cell_type": "markdown",
   "metadata": {},
   "source": [
    "# Intro to Pandas"
   ]
  },
  {
   "cell_type": "code",
   "execution_count": 4,
   "metadata": {},
   "outputs": [],
   "source": [
    "import pandas as pd\n",
    "import os"
   ]
  },
  {
   "cell_type": "markdown",
   "metadata": {},
   "source": [
    "### Use Pandas.read_csv() to read files"
   ]
  },
  {
   "cell_type": "code",
   "execution_count": 3,
   "metadata": {},
   "outputs": [],
   "source": [
    "file_path = os.path.join(\"..\", \"data\", \"gapminder_all.csv\")"
   ]
  },
  {
   "cell_type": "code",
   "execution_count": 17,
   "metadata": {},
   "outputs": [
    {
     "data": {
      "text/html": [
       "<div>\n",
       "<style scoped>\n",
       "    .dataframe tbody tr th:only-of-type {\n",
       "        vertical-align: middle;\n",
       "    }\n",
       "\n",
       "    .dataframe tbody tr th {\n",
       "        vertical-align: top;\n",
       "    }\n",
       "\n",
       "    .dataframe thead th {\n",
       "        text-align: right;\n",
       "    }\n",
       "</style>\n",
       "<table border=\"1\" class=\"dataframe\">\n",
       "  <thead>\n",
       "    <tr style=\"text-align: right;\">\n",
       "      <th></th>\n",
       "      <th>continent</th>\n",
       "      <th>country</th>\n",
       "      <th>gdpPercap_1952</th>\n",
       "      <th>gdpPercap_1957</th>\n",
       "      <th>gdpPercap_1962</th>\n",
       "      <th>gdpPercap_1967</th>\n",
       "      <th>gdpPercap_1972</th>\n",
       "      <th>gdpPercap_1977</th>\n",
       "      <th>gdpPercap_1982</th>\n",
       "      <th>gdpPercap_1987</th>\n",
       "      <th>...</th>\n",
       "      <th>pop_1962</th>\n",
       "      <th>pop_1967</th>\n",
       "      <th>pop_1972</th>\n",
       "      <th>pop_1977</th>\n",
       "      <th>pop_1982</th>\n",
       "      <th>pop_1987</th>\n",
       "      <th>pop_1992</th>\n",
       "      <th>pop_1997</th>\n",
       "      <th>pop_2002</th>\n",
       "      <th>pop_2007</th>\n",
       "    </tr>\n",
       "  </thead>\n",
       "  <tbody>\n",
       "    <tr>\n",
       "      <th>0</th>\n",
       "      <td>Africa</td>\n",
       "      <td>Algeria</td>\n",
       "      <td>2449.008185</td>\n",
       "      <td>3013.976023</td>\n",
       "      <td>2550.816880</td>\n",
       "      <td>3246.991771</td>\n",
       "      <td>4182.663766</td>\n",
       "      <td>4910.416756</td>\n",
       "      <td>5745.160213</td>\n",
       "      <td>5681.358539</td>\n",
       "      <td>...</td>\n",
       "      <td>11000948.0</td>\n",
       "      <td>12760499.0</td>\n",
       "      <td>14760787.0</td>\n",
       "      <td>17152804.0</td>\n",
       "      <td>20033753.0</td>\n",
       "      <td>23254956.0</td>\n",
       "      <td>26298373.0</td>\n",
       "      <td>29072015.0</td>\n",
       "      <td>31287142</td>\n",
       "      <td>33333216</td>\n",
       "    </tr>\n",
       "    <tr>\n",
       "      <th>1</th>\n",
       "      <td>Africa</td>\n",
       "      <td>Angola</td>\n",
       "      <td>3520.610273</td>\n",
       "      <td>3827.940465</td>\n",
       "      <td>4269.276742</td>\n",
       "      <td>5522.776375</td>\n",
       "      <td>5473.288005</td>\n",
       "      <td>3008.647355</td>\n",
       "      <td>2756.953672</td>\n",
       "      <td>2430.208311</td>\n",
       "      <td>...</td>\n",
       "      <td>4826015.0</td>\n",
       "      <td>5247469.0</td>\n",
       "      <td>5894858.0</td>\n",
       "      <td>6162675.0</td>\n",
       "      <td>7016384.0</td>\n",
       "      <td>7874230.0</td>\n",
       "      <td>8735988.0</td>\n",
       "      <td>9875024.0</td>\n",
       "      <td>10866106</td>\n",
       "      <td>12420476</td>\n",
       "    </tr>\n",
       "    <tr>\n",
       "      <th>2</th>\n",
       "      <td>Africa</td>\n",
       "      <td>Benin</td>\n",
       "      <td>1062.752200</td>\n",
       "      <td>959.601080</td>\n",
       "      <td>949.499064</td>\n",
       "      <td>1035.831411</td>\n",
       "      <td>1085.796879</td>\n",
       "      <td>1029.161251</td>\n",
       "      <td>1277.897616</td>\n",
       "      <td>1225.856010</td>\n",
       "      <td>...</td>\n",
       "      <td>2151895.0</td>\n",
       "      <td>2427334.0</td>\n",
       "      <td>2761407.0</td>\n",
       "      <td>3168267.0</td>\n",
       "      <td>3641603.0</td>\n",
       "      <td>4243788.0</td>\n",
       "      <td>4981671.0</td>\n",
       "      <td>6066080.0</td>\n",
       "      <td>7026113</td>\n",
       "      <td>8078314</td>\n",
       "    </tr>\n",
       "    <tr>\n",
       "      <th>3</th>\n",
       "      <td>Africa</td>\n",
       "      <td>Botswana</td>\n",
       "      <td>851.241141</td>\n",
       "      <td>918.232535</td>\n",
       "      <td>983.653976</td>\n",
       "      <td>1214.709294</td>\n",
       "      <td>2263.611114</td>\n",
       "      <td>3214.857818</td>\n",
       "      <td>4551.142150</td>\n",
       "      <td>6205.883850</td>\n",
       "      <td>...</td>\n",
       "      <td>512764.0</td>\n",
       "      <td>553541.0</td>\n",
       "      <td>619351.0</td>\n",
       "      <td>781472.0</td>\n",
       "      <td>970347.0</td>\n",
       "      <td>1151184.0</td>\n",
       "      <td>1342614.0</td>\n",
       "      <td>1536536.0</td>\n",
       "      <td>1630347</td>\n",
       "      <td>1639131</td>\n",
       "    </tr>\n",
       "    <tr>\n",
       "      <th>4</th>\n",
       "      <td>Africa</td>\n",
       "      <td>Burkina Faso</td>\n",
       "      <td>543.255241</td>\n",
       "      <td>617.183465</td>\n",
       "      <td>722.512021</td>\n",
       "      <td>794.826560</td>\n",
       "      <td>854.735976</td>\n",
       "      <td>743.387037</td>\n",
       "      <td>807.198586</td>\n",
       "      <td>912.063142</td>\n",
       "      <td>...</td>\n",
       "      <td>4919632.0</td>\n",
       "      <td>5127935.0</td>\n",
       "      <td>5433886.0</td>\n",
       "      <td>5889574.0</td>\n",
       "      <td>6634596.0</td>\n",
       "      <td>7586551.0</td>\n",
       "      <td>8878303.0</td>\n",
       "      <td>10352843.0</td>\n",
       "      <td>12251209</td>\n",
       "      <td>14326203</td>\n",
       "    </tr>\n",
       "  </tbody>\n",
       "</table>\n",
       "<p>5 rows × 38 columns</p>\n",
       "</div>"
      ],
      "text/plain": [
       "  continent       country  gdpPercap_1952  gdpPercap_1957  gdpPercap_1962  \\\n",
       "0    Africa       Algeria     2449.008185     3013.976023     2550.816880   \n",
       "1    Africa        Angola     3520.610273     3827.940465     4269.276742   \n",
       "2    Africa         Benin     1062.752200      959.601080      949.499064   \n",
       "3    Africa      Botswana      851.241141      918.232535      983.653976   \n",
       "4    Africa  Burkina Faso      543.255241      617.183465      722.512021   \n",
       "\n",
       "   gdpPercap_1967  gdpPercap_1972  gdpPercap_1977  gdpPercap_1982  \\\n",
       "0     3246.991771     4182.663766     4910.416756     5745.160213   \n",
       "1     5522.776375     5473.288005     3008.647355     2756.953672   \n",
       "2     1035.831411     1085.796879     1029.161251     1277.897616   \n",
       "3     1214.709294     2263.611114     3214.857818     4551.142150   \n",
       "4      794.826560      854.735976      743.387037      807.198586   \n",
       "\n",
       "   gdpPercap_1987    ...       pop_1962    pop_1967    pop_1972    pop_1977  \\\n",
       "0     5681.358539    ...     11000948.0  12760499.0  14760787.0  17152804.0   \n",
       "1     2430.208311    ...      4826015.0   5247469.0   5894858.0   6162675.0   \n",
       "2     1225.856010    ...      2151895.0   2427334.0   2761407.0   3168267.0   \n",
       "3     6205.883850    ...       512764.0    553541.0    619351.0    781472.0   \n",
       "4      912.063142    ...      4919632.0   5127935.0   5433886.0   5889574.0   \n",
       "\n",
       "     pop_1982    pop_1987    pop_1992    pop_1997  pop_2002  pop_2007  \n",
       "0  20033753.0  23254956.0  26298373.0  29072015.0  31287142  33333216  \n",
       "1   7016384.0   7874230.0   8735988.0   9875024.0  10866106  12420476  \n",
       "2   3641603.0   4243788.0   4981671.0   6066080.0   7026113   8078314  \n",
       "3    970347.0   1151184.0   1342614.0   1536536.0   1630347   1639131  \n",
       "4   6634596.0   7586551.0   8878303.0  10352843.0  12251209  14326203  \n",
       "\n",
       "[5 rows x 38 columns]"
      ]
     },
     "execution_count": 17,
     "metadata": {},
     "output_type": "execute_result"
    }
   ],
   "source": [
    "df = pd.read_csv(file_path)\n",
    "df.head()"
   ]
  },
  {
   "cell_type": "markdown",
   "metadata": {},
   "source": [
    "### Use type() to see Data Type we're working with"
   ]
  },
  {
   "cell_type": "code",
   "execution_count": 9,
   "metadata": {},
   "outputs": [
    {
     "data": {
      "text/plain": [
       "pandas.core.frame.DataFrame"
      ]
     },
     "execution_count": 9,
     "metadata": {},
     "output_type": "execute_result"
    }
   ],
   "source": [
    "type(df)"
   ]
  },
  {
   "cell_type": "code",
   "execution_count": 18,
   "metadata": {},
   "outputs": [
    {
     "data": {
      "text/plain": [
       "pandas.core.series.Series"
      ]
     },
     "execution_count": 18,
     "metadata": {},
     "output_type": "execute_result"
    }
   ],
   "source": [
    "ds = df.country\n",
    "type(ds)"
   ]
  },
  {
   "cell_type": "markdown",
   "metadata": {},
   "source": [
    "### use dtypes property to see column data types"
   ]
  },
  {
   "cell_type": "code",
   "execution_count": 27,
   "metadata": {},
   "outputs": [
    {
     "data": {
      "text/plain": [
       "continent          object\n",
       "country            object\n",
       "gdpPercap_1952    float64\n",
       "gdpPercap_1957    float64\n",
       "gdpPercap_1962    float64\n",
       "gdpPercap_1967    float64\n",
       "gdpPercap_1972    float64\n",
       "gdpPercap_1977    float64\n",
       "gdpPercap_1982    float64\n",
       "gdpPercap_1987    float64\n",
       "gdpPercap_1992    float64\n",
       "gdpPercap_1997    float64\n",
       "gdpPercap_2002    float64\n",
       "gdpPercap_2007    float64\n",
       "lifeExp_1952      float64\n",
       "lifeExp_1957      float64\n",
       "lifeExp_1962      float64\n",
       "lifeExp_1967      float64\n",
       "lifeExp_1972      float64\n",
       "lifeExp_1977      float64\n",
       "lifeExp_1982      float64\n",
       "lifeExp_1987      float64\n",
       "lifeExp_1992      float64\n",
       "lifeExp_1997      float64\n",
       "lifeExp_2002      float64\n",
       "lifeExp_2007      float64\n",
       "pop_1952          float64\n",
       "pop_1957          float64\n",
       "pop_1962          float64\n",
       "pop_1967          float64\n",
       "pop_1972          float64\n",
       "pop_1977          float64\n",
       "pop_1982          float64\n",
       "pop_1987          float64\n",
       "pop_1992          float64\n",
       "pop_1997          float64\n",
       "pop_2002            int64\n",
       "pop_2007            int64\n",
       "dtype: object"
      ]
     },
     "execution_count": 27,
     "metadata": {},
     "output_type": "execute_result"
    }
   ],
   "source": [
    "df.dtypes"
   ]
  },
  {
   "cell_type": "markdown",
   "metadata": {},
   "source": [
    "### To find length of Series use size property, \n",
    "### To find row counts of DataFrames, use shape property"
   ]
  },
  {
   "cell_type": "code",
   "execution_count": 19,
   "metadata": {},
   "outputs": [
    {
     "data": {
      "text/plain": [
       "142"
      ]
     },
     "execution_count": 19,
     "metadata": {},
     "output_type": "execute_result"
    }
   ],
   "source": [
    "ds.size"
   ]
  },
  {
   "cell_type": "code",
   "execution_count": 14,
   "metadata": {},
   "outputs": [
    {
     "data": {
      "text/plain": [
       "(142, 38)"
      ]
     },
     "execution_count": 14,
     "metadata": {},
     "output_type": "execute_result"
    }
   ],
   "source": [
    "df.shape"
   ]
  },
  {
   "cell_type": "code",
   "execution_count": 22,
   "metadata": {},
   "outputs": [
    {
     "name": "stdout",
     "output_type": "stream",
     "text": [
      "There are 142 rows and 38 columns\n"
     ]
    }
   ],
   "source": [
    "rows = df.shape[0]\n",
    "columns = df.shape[1]\n",
    "print(f\"There are {rows} rows and {columns} columns\")"
   ]
  },
  {
   "cell_type": "code",
   "execution_count": 29,
   "metadata": {},
   "outputs": [
    {
     "name": "stdout",
     "output_type": "stream",
     "text": [
      "<class 'pandas.core.frame.DataFrame'>\n",
      "RangeIndex: 142 entries, 0 to 141\n",
      "Data columns (total 38 columns):\n",
      "continent         142 non-null object\n",
      "country           142 non-null object\n",
      "gdpPercap_1952    142 non-null float64\n",
      "gdpPercap_1957    142 non-null float64\n",
      "gdpPercap_1962    142 non-null float64\n",
      "gdpPercap_1967    142 non-null float64\n",
      "gdpPercap_1972    142 non-null float64\n",
      "gdpPercap_1977    142 non-null float64\n",
      "gdpPercap_1982    142 non-null float64\n",
      "gdpPercap_1987    142 non-null float64\n",
      "gdpPercap_1992    142 non-null float64\n",
      "gdpPercap_1997    142 non-null float64\n",
      "gdpPercap_2002    142 non-null float64\n",
      "gdpPercap_2007    142 non-null float64\n",
      "lifeExp_1952      142 non-null float64\n",
      "lifeExp_1957      142 non-null float64\n",
      "lifeExp_1962      142 non-null float64\n",
      "lifeExp_1967      142 non-null float64\n",
      "lifeExp_1972      142 non-null float64\n",
      "lifeExp_1977      142 non-null float64\n",
      "lifeExp_1982      142 non-null float64\n",
      "lifeExp_1987      142 non-null float64\n",
      "lifeExp_1992      142 non-null float64\n",
      "lifeExp_1997      142 non-null float64\n",
      "lifeExp_2002      142 non-null float64\n",
      "lifeExp_2007      142 non-null float64\n",
      "pop_1952          142 non-null float64\n",
      "pop_1957          142 non-null float64\n",
      "pop_1962          142 non-null float64\n",
      "pop_1967          142 non-null float64\n",
      "pop_1972          142 non-null float64\n",
      "pop_1977          142 non-null float64\n",
      "pop_1982          142 non-null float64\n",
      "pop_1987          142 non-null float64\n",
      "pop_1992          142 non-null float64\n",
      "pop_1997          142 non-null float64\n",
      "pop_2002          142 non-null int64\n",
      "pop_2007          142 non-null int64\n",
      "dtypes: float64(34), int64(2), object(2)\n",
      "memory usage: 42.2+ KB\n"
     ]
    }
   ],
   "source": [
    "df.info()"
   ]
  },
  {
   "cell_type": "code",
   "execution_count": null,
   "metadata": {},
   "outputs": [],
   "source": []
  }
 ],
 "metadata": {
  "kernelspec": {
   "display_name": "Python [conda env:PythonData]",
   "language": "python",
   "name": "conda-env-PythonData-py"
  },
  "language_info": {
   "codemirror_mode": {
    "name": "ipython",
    "version": 3
   },
   "file_extension": ".py",
   "mimetype": "text/x-python",
   "name": "python",
   "nbconvert_exporter": "python",
   "pygments_lexer": "ipython3",
   "version": "3.6.6"
  }
 },
 "nbformat": 4,
 "nbformat_minor": 2
}
